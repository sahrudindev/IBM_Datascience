{
 "cells": [
  {
   "cell_type": "markdown",
   "id": "994a2da4-05aa-48b1-96c7-be7597ff5a19",
   "metadata": {},
   "source": [
    "# Data Science Tools and Ecosystem\r\n"
   ]
  },
  {
   "cell_type": "markdown",
   "id": "c6b84f45-0f49-4080-bddf-eb0cc2fba370",
   "metadata": {},
   "source": [
    "#### In this notbook, Data Science Tool and Ecosystem are summarized"
   ]
  },
  {
   "cell_type": "markdown",
   "id": "7980a675-40af-40d8-81fd-201974824d21",
   "metadata": {},
   "source": [
    "Some of the popular languages that Data Scientists use are \r\n",
    "1. Python\r\n",
    "2. SQL\r\n",
    "3. R\r\n",
    "4. C++tion"
   ]
  },
  {
   "cell_type": "markdown",
   "id": "18aacafe-b624-4ef3-9054-9da94e99f30d",
   "metadata": {},
   "source": [
    "Some of the commonly used libraries used by Data Scienctists include:\r\n",
    "1. Pandas\r\n",
    "2. Numpy\r\n",
    "3. Matplotlib\r\n",
    "4. Seaborntion"
   ]
  },
  {
   "cell_type": "markdown",
   "id": "fc574d2d-873b-4887-8f97-c0295dfeb4a1",
   "metadata": {},
   "source": [
    "| Data Science Tools   | \r\n",
    "| -------- | \r\n",
    "| Jupyter Notebook  | \r\n",
    "| SQL Workbench and Server | \r\n",
    "| Tableau |\r\n",
    "|Power BI|tion"
   ]
  },
  {
   "cell_type": "markdown",
   "id": "1ed20efa-e98e-4969-b9a7-6efecfdf9184",
   "metadata": {},
   "source": [
    "### Below are a few examples of evaluating arithmetic expressions in Python"
   ]
  },
  {
   "cell_type": "code",
   "execution_count": 2,
   "id": "27475912-989d-4a3c-a58e-21113e874fb2",
   "metadata": {},
   "outputs": [
    {
     "data": {
      "text/plain": [
       "17"
      ]
     },
     "execution_count": 2,
     "metadata": {},
     "output_type": "execute_result"
    }
   ],
   "source": [
    "#This is a simple arithmetic expression to multiply then add integers\n",
    "(3*4)+5"
   ]
  },
  {
   "cell_type": "code",
   "execution_count": 3,
   "id": "8716c79b-1c2e-4c2d-a4dc-3d0076f1d3fe",
   "metadata": {},
   "outputs": [
    {
     "data": {
      "text/plain": [
       "3.3333333333333335"
      ]
     },
     "execution_count": 3,
     "metadata": {},
     "output_type": "execute_result"
    }
   ],
   "source": [
    "#This will cover 200 mniutes to hours by diving by 60\n",
    "200/60"
   ]
  },
  {
   "cell_type": "markdown",
   "id": "7151ebb7-385b-49c3-a0fb-311b81c32819",
   "metadata": {},
   "source": [
    "**Objectives**\r\n",
    "* Learning SQL\r\n",
    "* Learning Python and Jupyter notebook\r\n",
    "* Learning the basics of some statistics and using them in data sciences\r\n",
    "* Learning Data Visualisation"
   ]
  },
  {
   "cell_type": "markdown",
   "id": "c60db63e-a7da-4745-9b38-c298d54c38b1",
   "metadata": {
    "jp-MarkdownHeadingCollapsed": true
   },
   "source": [
    "## Author\n",
    "Sahrudin Fiqri Muzahidat\n"
   ]
  }
 ],
 "metadata": {
  "kernelspec": {
   "display_name": "Python 3 (ipykernel)",
   "language": "python",
   "name": "python3"
  },
  "language_info": {
   "codemirror_mode": {
    "name": "ipython",
    "version": 3
   },
   "file_extension": ".py",
   "mimetype": "text/x-python",
   "name": "python",
   "nbconvert_exporter": "python",
   "pygments_lexer": "ipython3",
   "version": "3.9.13"
  }
 },
 "nbformat": 4,
 "nbformat_minor": 5
}
